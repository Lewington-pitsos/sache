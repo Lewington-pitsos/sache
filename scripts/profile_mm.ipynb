{
 "cells": [
  {
   "cell_type": "code",
   "execution_count": null,
   "metadata": {},
   "outputs": [],
   "source": [
    "import time\n",
    "import torch\n",
    "import matplotlib.pyplot as plt\n",
    "from torch.profiler import profile, record_function, ProfilerActivity\n",
    "\n",
    "d_input =  768\n",
    "n_ft = 24576\n",
    "trials = 10\n",
    "warm_up = 10\n",
    "\n",
    "device='cuda'\n"
   ]
  },
  {
   "cell_type": "code",
   "execution_count": null,
   "metadata": {},
   "outputs": [],
   "source": [
    "def normal_mm(w, input):\n",
    "    y = input @ w\n",
    "    return y\n",
    "\n",
    "def expert_mm(experts, bs, input):\n",
    "    n_experts = experts.shape[0]\n",
    "    to_each_expert = bs // n_experts\n",
    "\n",
    "    for i in range(0, bs, to_each_expert):\n",
    "        y = input[i:i+to_each_expert] @ experts[i // to_each_expert]\n",
    "\n",
    "    return None"
   ]
  },
  {
   "cell_type": "code",
   "execution_count": null,
   "metadata": {},
   "outputs": [],
   "source": [
    "n_experts = 32\n",
    "bs = 1024\n",
    "weights = torch.randn(d_input, n_ft, device=device)\n",
    "experts = torch.randn(n_experts, d_input, n_ft // n_experts, device=device)\n",
    "input = torch.randn(bs, d_input, device=device)"
   ]
  },
  {
   "cell_type": "code",
   "execution_count": null,
   "metadata": {},
   "outputs": [],
   "source": [
    "with profile(activities=[ProfilerActivity.CPU, ProfilerActivity.CUDA], record_shapes=True) as prof:\n",
    "    normal_mm(weights, input)\n",
    "\n",
    "print(prof.key_averages().table(sort_by=\"cuda_time_total\", row_limit=10))"
   ]
  },
  {
   "cell_type": "code",
   "execution_count": null,
   "metadata": {},
   "outputs": [],
   "source": [
    "with profile(activities=[ProfilerActivity.CPU, ProfilerActivity.CUDA], record_shapes=True) as prof:\n",
    "    expert_mm(experts, bs, input)\n",
    "\n",
    "print(prof.key_averages().table(sort_by=\"cuda_time_total\", row_limit=10))"
   ]
  },
  {
   "cell_type": "code",
   "execution_count": null,
   "metadata": {},
   "outputs": [],
   "source": [
    "import torch.utils.benchmark as benchmark\n",
    "\n",
    "bss = [32, 64, 128, 256, 512, 1024, 2048]\n",
    "n_expertss = [16]\n",
    "n_threadss = [1, 4, 8]\n",
    "label = 'mm'\n",
    "results = []\n",
    "for bs in bss:\n",
    "    for n_experts in n_expertss:\n",
    "        for n_threads in n_threadss:\n",
    "            weights = torch.randn(d_input, n_ft, device=device)\n",
    "            experts = torch.randn(n_experts, d_input, n_ft // n_experts, device=device)\n",
    "            input = torch.randn(bs, d_input, device=device)\n",
    "\n",
    "\n",
    "            sub_label = f'bs={bs}, n_experts={n_experts}'\n",
    "            t0 = benchmark.Timer(\n",
    "                stmt='normal_mm(weights, input)',\n",
    "                setup='from __main__ import normal_mm',\n",
    "                description='normal',\n",
    "                num_threads=n_threads,\n",
    "                label=label,\n",
    "                sub_label=sub_label,\n",
    "                globals={'input': input, 'weights': weights}).blocked_autorange(min_run_time=1)\n",
    "\n",
    "            t1 = benchmark.Timer(\n",
    "                stmt='expert_mm(experts, bs, input)',\n",
    "                setup='from __main__ import expert_mm',\n",
    "                description='expert',\n",
    "                num_threads=n_threads,\n",
    "                label=label,\n",
    "                sub_label=sub_label,\n",
    "                globals={'input': input, 'experts': experts, 'bs': bs}).blocked_autorange(min_run_time=1)\n",
    "\n",
    "            results.append(t0)\n",
    "            results.append(t1)\n",
    "\n",
    "compare = benchmark.Compare(results)\n",
    "compare.colorize()\n",
    "compare.print()"
   ]
  },
  {
   "cell_type": "code",
   "execution_count": null,
   "metadata": {},
   "outputs": [],
   "source": [
    "results = []\n",
    "bss = [32, 64, 128, 256, 512, 1024, 2048]\n",
    "n_expertss = [8, 16, 32]\n",
    "for bs in bss:\n",
    "    for n_experts in n_expertss:\n",
    "        weights = torch.randn(d_input, n_ft, device=device)\n",
    "        experts = torch.randn(n_experts, d_input, n_ft // n_experts, device=device)\n",
    "\n",
    "        torch.cuda.synchronize()\n",
    "        start = time.time()\n",
    "\n",
    "        for i in range(trials):\n",
    "            y = normal_mm(weights, bs, d_input)\n",
    "\n",
    "        torch.cuda.synchronize()\n",
    "        elapsed_a = time.time() - start\n",
    "\n",
    "        torch.cuda.synchronize()\n",
    "        start = time.time()\n",
    "\n",
    "        for i in range(trials):\n",
    "            ys = expert_mm(experts, bs, d_input)\n",
    "                \n",
    "        torch.cuda.synchronize()\n",
    "        elapsed_b = time.time() - start\n",
    "\n",
    "        results.append({\n",
    "            'bs': bs,\n",
    "            'n_experts': n_experts,\n",
    "            'elapsed_normal': elapsed_a,\n",
    "            'elapsed_experts': elapsed_b\n",
    "        })\n"
   ]
  },
  {
   "cell_type": "code",
   "execution_count": null,
   "metadata": {},
   "outputs": [],
   "source": []
  }
 ],
 "metadata": {
  "language_info": {
   "name": "python"
  }
 },
 "nbformat": 4,
 "nbformat_minor": 2
}
