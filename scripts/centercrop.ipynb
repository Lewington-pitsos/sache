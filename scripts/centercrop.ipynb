{
 "cells": [
  {
   "cell_type": "code",
   "execution_count": 6,
   "metadata": {},
   "outputs": [],
   "source": [
    "import matplotlib.pyplot as plt\n",
    "import pandas as pd\n",
    "import os\n",
    "import PIL"
   ]
  },
  {
   "cell_type": "code",
   "execution_count": 3,
   "metadata": {},
   "outputs": [],
   "source": [
    "base_dir = '../cruft/ViT-3mil-topkk-32-experts-8_5d073c/latents-2969600/images'\n",
    "\n",
    "feature_numbers = [30, 8, 96, 84, 70]\n",
    "feature_names = ['Forest', 'Spain', 'Sheep', 'Knitwear', 'International Politics']"
   ]
  },
  {
   "cell_type": "code",
   "execution_count": 79,
   "metadata": {},
   "outputs": [],
   "source": [
    "os.mkdir('../cruft/grids')"
   ]
  },
  {
   "cell_type": "code",
   "execution_count": 80,
   "metadata": {},
   "outputs": [
    {
     "name": "stderr",
     "output_type": "stream",
     "text": [
      "/tmp/ipykernel_1138521/3541074394.py:16: UserWarning: This figure was using a layout engine that is incompatible with subplots_adjust and/or tight_layout; not calling subplots_adjust.\n",
      "  plt.subplots_adjust(wspace=0.05, hspace=0.05)\n",
      "/tmp/ipykernel_1138521/3541074394.py:86: UserWarning: This figure was using a layout engine that is incompatible with subplots_adjust and/or tight_layout; not calling subplots_adjust.\n",
      "  plt.subplots_adjust(wspace=0.05, hspace=0.05, top=0.9)\n"
     ]
    }
   ],
   "source": [
    "import os\n",
    "import matplotlib.pyplot as plt\n",
    "import PIL.Image\n",
    "\n",
    "# Remove the dark background style\n",
    "plt.style.use('dark_background')  # Remove or comment out this line if you want a light background\n",
    "\n",
    "for num, name in zip(feature_numbers, feature_names):\n",
    "    image_dir = f'{base_dir}/feature_{num}'\n",
    "    images = [f for f in os.listdir(image_dir) if f.endswith('.png') and 'top9' in f]\n",
    "\n",
    "    fig, axs = plt.subplots(3, 3, figsize=(16, 16.2), constrained_layout=True)\n",
    "    fig.suptitle(f'Highest Activating Images for Feature {num}: \"{name}\"', fontsize=16)\n",
    "\n",
    "    # Adjust the vertical and horizontal gaps between images to be the same\n",
    "    plt.subplots_adjust(wspace=0.05, hspace=0.05)\n",
    "\n",
    "    for i in range(9):\n",
    "        ax = axs[i // 3, i % 3]\n",
    "\n",
    "        img_path = os.path.join(image_dir, images[i])\n",
    "        img = PIL.Image.open(img_path)        \n",
    "        if not (i ==8 and name == 'sheep'):\n",
    "            if i < len(images):\n",
    "\n",
    "                # Remove whitespace (or near-white pixels) from the top and bottom\n",
    "                img_data = list(img.getdata())\n",
    "                width, height = img.size\n",
    "\n",
    "                # Find the top and bottom bounds that are not completely \"white\" (RGB > 253)\n",
    "                n = 700\n",
    "                top, bottom = 0, height - 1\n",
    "                for y in range(height):\n",
    "                    row_pixels = img_data[y * width:(y + 1) * width]\n",
    "                    if any(not (isinstance(pixel, tuple) and len(pixel) >= 3 and (pixel[0] + pixel[1] + pixel[2]) > n) for pixel in row_pixels):\n",
    "                        top = y\n",
    "                        break\n",
    "                for y in range(height - 1, -1, -1):\n",
    "                    row_pixels = img_data[y * width:(y + 1) * width]\n",
    "                    if any(not (isinstance(pixel, tuple) and len(pixel) >= 3 and (pixel[0] + pixel[1] + pixel[2]) > n) for pixel in row_pixels):\n",
    "                        bottom = y\n",
    "                        break\n",
    "\n",
    "\n",
    "                left, right = 0, width - 1\n",
    "                for x in range(width):\n",
    "                    column_pixels = img_data[x::width]\n",
    "                    if any(not (isinstance(pixel, tuple) and len(pixel) >= 3 and (pixel[0] + pixel[1] + pixel[2]) > n) for pixel in column_pixels):\n",
    "                        left = x\n",
    "                        break\n",
    "                for x in range(width - 1, -1, -1):\n",
    "                    column_pixels = img_data[x::width]\n",
    "                    if any(not (isinstance(pixel, tuple) and len(pixel) >= 3 and (pixel[0] + pixel[1] + pixel[2]) > n) for pixel in column_pixels):\n",
    "                        right = x\n",
    "                        break\n",
    "\n",
    "                # Crop to remove the whitespace from all sides\n",
    "                img = img.crop((left, top, right + 1, bottom + 1))\n",
    "\n",
    "                # Center crop the image to a square\n",
    "                width, height = img.size\n",
    "                if width > height:\n",
    "                    left = (width - height) / 2\n",
    "                    top = 0\n",
    "                    right = (width + height) / 2\n",
    "                    bottom = height\n",
    "                elif height > width:\n",
    "                    left = 0\n",
    "                    top = (height - width) / 2\n",
    "                    right = width\n",
    "                    bottom = (height + width) / 2\n",
    "                else:\n",
    "                    left, top, right, bottom = 0, 0, width, height\n",
    "\n",
    "                img = img.crop((left, top, right, bottom))\n",
    "                \n",
    "                # Display the image\n",
    "        ax.imshow(img)\n",
    "        ax.axis('off')  # Hide axes for a cleaner look\n",
    "\n",
    "    output_path = f'../cruft/grids/{num}_{name.replace(\" \", \"-\")}_cropped.png'\n",
    "    plt.savefig(output_path, bbox_inches='tight')\n",
    "\n",
    "    # Adjust the layout to remove extra space at the top\n",
    "    # plt.tight_layout(rect=[0, 1, 1, 1])  # Adjust layout to fit title, with less space at the top\n",
    "    plt.subplots_adjust(wspace=0.05, hspace=0.05, top=0.9)\n",
    "    plt.close(fig)\n"
   ]
  },
  {
   "cell_type": "code",
   "execution_count": 81,
   "metadata": {},
   "outputs": [
    {
     "name": "stderr",
     "output_type": "stream",
     "text": [
      "/tmp/ipykernel_1138521/3033851734.py:16: UserWarning: This figure was using a layout engine that is incompatible with subplots_adjust and/or tight_layout; not calling subplots_adjust.\n",
      "  plt.subplots_adjust(wspace=0.05, hspace=0.05)\n"
     ]
    },
    {
     "name": "stderr",
     "output_type": "stream",
     "text": [
      "/tmp/ipykernel_1138521/3033851734.py:58: UserWarning: This figure was using a layout engine that is incompatible with subplots_adjust and/or tight_layout; not calling subplots_adjust.\n",
      "  plt.subplots_adjust(wspace=0.05, hspace=0.05, top=0.9)\n"
     ]
    }
   ],
   "source": [
    "import os\n",
    "import matplotlib.pyplot as plt\n",
    "import PIL.Image\n",
    "\n",
    "# Remove the dark background style\n",
    "plt.style.use('dark_background')  # Remove or comment out this line if you want a light background\n",
    "\n",
    "for num, name in zip(feature_numbers, feature_names):\n",
    "    image_dir = f'{base_dir}/feature_{num}'\n",
    "    images = [f for f in os.listdir(image_dir) if f.endswith('.png') and 'top9' in f]\n",
    "\n",
    "    fig, axs = plt.subplots(3, 3, figsize=(16, 16.2), constrained_layout=True)\n",
    "    fig.suptitle(f'Highest Activating Images for Feature {num}: \"{name}\"', fontsize=16)\n",
    "\n",
    "    # Adjust the vertical and horizontal gaps between images to be the same\n",
    "    plt.subplots_adjust(wspace=0.05, hspace=0.05)\n",
    "\n",
    "    for i in range(9):\n",
    "        ax = axs[i // 3, i % 3]\n",
    "        \n",
    "        if i < len(images):\n",
    "            img_path = os.path.join(image_dir, images[i])\n",
    "            img = PIL.Image.open(img_path)\n",
    "\n",
    "            # crop out whitespace from top and bottom\n",
    "\n",
    "\n",
    "\n",
    "            # Center crop the image to a square\n",
    "            width, height = img.size\n",
    "            if width > height:\n",
    "                left = (width - height) / 2\n",
    "                top = 0\n",
    "                right = (width + height) / 2\n",
    "                bottom = height\n",
    "            elif height > width:\n",
    "                left = 0\n",
    "                top = (height - width) / 2\n",
    "                right = width\n",
    "                bottom = (height + width) / 2\n",
    "            else:\n",
    "                left, top, right, bottom = 0, 0, width, height\n",
    "\n",
    "            img = img.crop((left, top, right, bottom))\n",
    "            \n",
    "            # Display the image\n",
    "            ax.imshow(img)\n",
    "            ax.axis('off')  # Hide axes for a cleaner look\n",
    "        else:\n",
    "            ax.axis('off')  # Hide unused subplots\n",
    "\n",
    "\n",
    "    output_path = f'../cruft/grids/{num}_{name.replace(\" \", \"-\")}.png'\n",
    "    plt.savefig(output_path, bbox_inches='tight')\n",
    "\n",
    "    # Adjust the layout to remove extra space at the top\n",
    "    # plt.tight_layout(rect=[0, 1, 1, 1])  # Adjust layout to fit title, with less space at the top\n",
    "    plt.subplots_adjust(wspace=0.05, hspace=0.05, top=0.9)\n",
    "    plt.close(fig)\n",
    "\n"
   ]
  },
  {
   "cell_type": "code",
   "execution_count": null,
   "metadata": {},
   "outputs": [],
   "source": []
  }
 ],
 "metadata": {
  "kernelspec": {
   "display_name": "pytorch",
   "language": "python",
   "name": "python3"
  },
  "language_info": {
   "codemirror_mode": {
    "name": "ipython",
    "version": 3
   },
   "file_extension": ".py",
   "mimetype": "text/x-python",
   "name": "python",
   "nbconvert_exporter": "python",
   "pygments_lexer": "ipython3",
   "version": "3.11.9"
  }
 },
 "nbformat": 4,
 "nbformat_minor": 2
}
