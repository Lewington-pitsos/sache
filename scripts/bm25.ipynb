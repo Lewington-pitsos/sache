{
 "cells": [
  {
   "cell_type": "code",
   "execution_count": 1,
   "metadata": {},
   "outputs": [
    {
     "name": "stderr",
     "output_type": "stream",
     "text": [
      "WARNING: Using incubator modules: jdk.incubator.vector\n",
      "/opt/conda/envs/pyserini/lib/python3.10/site-packages/tqdm/auto.py:21: TqdmWarning: IProgress not found. Please update jupyter and ipywidgets. See https://ipywidgets.readthedocs.io/en/stable/user_install.html\n",
      "  from .autonotebook import tqdm as notebook_tqdm\n",
      "Sep 21, 2024 8:57:58 AM org.apache.lucene.store.MemorySegmentIndexInputProvider <init>\n",
      "INFO: Using MemorySegmentIndexInput with Java 21; to disable start with -Dorg.apache.lucene.store.MMapDirectory.enableMemorySegments=false\n"
     ]
    },
    {
     "name": "stdout",
     "output_type": "stream",
     "text": [
      "<class 'list'>\n",
      " 1 7157707 11.00830\n",
      "<class 'list'>\n",
      " 2 6034357 10.94310\n",
      "<class 'list'>\n",
      " 3 5837606 10.81740\n",
      "<class 'list'>\n",
      " 4 7157715 10.59820\n",
      "<class 'list'>\n",
      " 5 6034350 10.48360\n",
      "<class 'list'>\n",
      " 6 2900045 10.31190\n",
      "<class 'list'>\n",
      " 7 7157713 10.12300\n",
      "<class 'list'>\n",
      " 8 1584344 10.05290\n",
      "<class 'list'>\n",
      " 9 533614  9.96350\n",
      "<class 'list'>\n",
      "10 6234461 9.92200\n"
     ]
    }
   ],
   "source": [
    "from pyserini.search.lucene import LuceneSearcher\n",
    "\n",
    "searcher = LuceneSearcher.from_prebuilt_index('msmarco-v1-passage')\n",
    "hits = searcher.search('what is a lobster roll?')\n",
    "\n",
    "for i in range(0, 10):\n",
    "    print(type(hits))\n",
    "    print(f'{i+1:2} {hits[i].docid:7} {hits[i].score:.5f}')"
   ]
  },
  {
   "cell_type": "code",
   "execution_count": 3,
   "metadata": {},
   "outputs": [
    {
     "data": {
      "text/plain": [
       "['_JavaClass__cls_storage',\n",
       " '__class__',\n",
       " '__delattr__',\n",
       " '__dict__',\n",
       " '__dir__',\n",
       " '__doc__',\n",
       " '__eq__',\n",
       " '__format__',\n",
       " '__ge__',\n",
       " '__getattribute__',\n",
       " '__gt__',\n",
       " '__hash__',\n",
       " '__init__',\n",
       " '__init_subclass__',\n",
       " '__javaclass__',\n",
       " '__javaconstructor__',\n",
       " '__le__',\n",
       " '__lt__',\n",
       " '__module__',\n",
       " '__ne__',\n",
       " '__new__',\n",
       " '__pyx_vtable__',\n",
       " '__reduce__',\n",
       " '__reduce_ex__',\n",
       " '__repr__',\n",
       " '__setattr__',\n",
       " '__setstate__',\n",
       " '__sizeof__',\n",
       " '__str__',\n",
       " '__subclasshook__',\n",
       " '__weakref__',\n",
       " '_class',\n",
       " 'clone',\n",
       " 'docid',\n",
       " 'equals',\n",
       " 'finalize',\n",
       " 'getClass',\n",
       " 'hashCode',\n",
       " 'lucene_docid',\n",
       " 'lucene_document',\n",
       " 'notify',\n",
       " 'notifyAll',\n",
       " 'score',\n",
       " 'toString',\n",
       " 'wait',\n",
       " 'wait0']"
      ]
     },
     "execution_count": 3,
     "metadata": {},
     "output_type": "execute_result"
    }
   ],
   "source": [
    "dir(hits[0])"
   ]
  },
  {
   "cell_type": "code",
   "execution_count": 7,
   "metadata": {},
   "outputs": [
    {
     "data": {
      "text/plain": [
       "['NO_STRINGS',\n",
       " '_JavaClass__cls_storage',\n",
       " '__class__',\n",
       " '__delattr__',\n",
       " '__dict__',\n",
       " '__dir__',\n",
       " '__doc__',\n",
       " '__eq__',\n",
       " '__format__',\n",
       " '__ge__',\n",
       " '__getattribute__',\n",
       " '__gt__',\n",
       " '__hash__',\n",
       " '__init__',\n",
       " '__init_subclass__',\n",
       " '__iter__',\n",
       " '__javaclass__',\n",
       " '__javaconstructor__',\n",
       " '__le__',\n",
       " '__lt__',\n",
       " '__module__',\n",
       " '__ne__',\n",
       " '__new__',\n",
       " '__pyx_vtable__',\n",
       " '__reduce__',\n",
       " '__reduce_ex__',\n",
       " '__repr__',\n",
       " '__setattr__',\n",
       " '__setstate__',\n",
       " '__sizeof__',\n",
       " '__str__',\n",
       " '__subclasshook__',\n",
       " '__weakref__',\n",
       " '_class',\n",
       " 'add',\n",
       " 'clear',\n",
       " 'clone',\n",
       " 'equals',\n",
       " 'fields',\n",
       " 'finalize',\n",
       " 'forEach',\n",
       " 'get',\n",
       " 'getBinaryValue',\n",
       " 'getBinaryValues',\n",
       " 'getClass',\n",
       " 'getField',\n",
       " 'getFields',\n",
       " 'getValues',\n",
       " 'hashCode',\n",
       " 'iterator',\n",
       " 'notify',\n",
       " 'notifyAll',\n",
       " 'removeField',\n",
       " 'removeFields',\n",
       " 'spliterator',\n",
       " 'toString',\n",
       " 'wait',\n",
       " 'wait0']"
      ]
     },
     "execution_count": 7,
     "metadata": {},
     "output_type": "execute_result"
    }
   ],
   "source": [
    "dir(hits[0].lucene_document)"
   ]
  },
  {
   "cell_type": "code",
   "execution_count": 14,
   "metadata": {},
   "outputs": [
    {
     "data": {
      "text/plain": [
       "<java.util.List at 0x7f0301040f40 jclass=java/util/List jself=<LocalRef obj=0x560e31492412 at 0x7f0260b32090>>"
      ]
     },
     "execution_count": 14,
     "metadata": {},
     "output_type": "execute_result"
    }
   ],
   "source": [
    "hits[0].lucene_document.fields"
   ]
  },
  {
   "cell_type": "code",
   "execution_count": null,
   "metadata": {},
   "outputs": [],
   "source": []
  }
 ],
 "metadata": {
  "kernelspec": {
   "display_name": "pyserini",
   "language": "python",
   "name": "python3"
  },
  "language_info": {
   "codemirror_mode": {
    "name": "ipython",
    "version": 3
   },
   "file_extension": ".py",
   "mimetype": "text/x-python",
   "name": "python",
   "nbconvert_exporter": "python",
   "pygments_lexer": "ipython3",
   "version": "3.10.14"
  }
 },
 "nbformat": 4,
 "nbformat_minor": 2
}
