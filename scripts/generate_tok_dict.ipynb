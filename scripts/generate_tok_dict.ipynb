{
 "cells": [
  {
   "cell_type": "code",
   "execution_count": 1,
   "metadata": {},
   "outputs": [],
   "source": [
    "from sae_lens import HookedSAETransformer\n",
    "import torch\n",
    "import os"
   ]
  },
  {
   "cell_type": "code",
   "execution_count": 2,
   "metadata": {},
   "outputs": [],
   "source": [
    "def generate_unigrams(transformer, layer, hook_name, all_tokens, t_fn, device, batch_size=32):\n",
    "    all_tokens = list(all_tokens)\n",
    "\n",
    "    sequences = [t_fn(t) for t in all_tokens]\n",
    "\n",
    "    t_acts = None\n",
    "    for i in range(0, len(sequences), batch_size):\n",
    "        batch = sequences[i:i+batch_size]\n",
    "        ids = torch.tensor(batch, device=device)\n",
    "\n",
    "        _, activations = transformer.run_with_cache(ids, prepend_bos=False, stop_at_layer=layer)\n",
    "        activations = activations[hook_name]\n",
    "        if t_acts is None:\n",
    "            t_acts = activations[:, -1, :].to('cpu')\n",
    "        else:\n",
    "            t_acts = torch.concat((t_acts, activations[:, -1, :].to('cpu')), dim=0)\n",
    "\n",
    "    return t_acts\n",
    "    \n",
    "\n",
    "def all_unigrams(transformer, layer, hook_name, all_tokens, token_sequence_batch_size, device):\n",
    "    store = {}\n",
    "\n",
    "    with torch.no_grad():\n",
    "        store['[<bos>, t]'] = generate_unigrams(transformer,    layer, hook_name, all_tokens, lambda t: [50256, t], device, batch_size=token_sequence_batch_size)\n",
    "        store['[<bos>, t, !]'] = generate_unigrams(transformer,    layer, hook_name, all_tokens, lambda t: [50256, t, 0], device, batch_size=token_sequence_batch_size)\n",
    "        store['[t]'] = generate_unigrams(transformer,    layer, hook_name, all_tokens, lambda t: [t], device, batch_size=token_sequence_batch_size)\n",
    "        store['[<bos>, <pad>, t]'] = generate_unigrams(transformer,    layer, hook_name, all_tokens, lambda t: [50256, 50256, t], device, batch_size=token_sequence_batch_size)\n",
    "        store['[t, t]'] = generate_unigrams(transformer, layer, hook_name, all_tokens, lambda t: [t, t], device, batch_size=token_sequence_batch_size)\n",
    "        store['[\" \", t]'] = generate_unigrams(transformer,  layer, hook_name, all_tokens, lambda t: [220, t],  device, batch_size=token_sequence_batch_size)\n",
    "        store['[\" \", \" \", t]'] = generate_unigrams(transformer, layer, hook_name, all_tokens, lambda t: [220, 220, t],  device, batch_size=token_sequence_batch_size)\n",
    "        store['[37233, t]'] = generate_unigrams(transformer,   layer, hook_name, all_tokens, lambda t: [37233, t],  device, batch_size=token_sequence_batch_size)\n",
    "        store['[<bos>, 37233]'] = generate_unigrams(transformer,   layer, hook_name, all_tokens, lambda t: [50256, 37233],  device, batch_size=token_sequence_batch_size)\n",
    "\n",
    "\n",
    "    return store"
   ]
  },
  {
   "cell_type": "code",
   "execution_count": 3,
   "metadata": {},
   "outputs": [
    {
     "name": "stderr",
     "output_type": "stream",
     "text": [
      "/opt/conda/envs/pytorch/lib/python3.11/site-packages/transformers/tokenization_utils_base.py:1601: FutureWarning: `clean_up_tokenization_spaces` was not set. It will be set to `True` by default. This behavior will be depracted in transformers v4.45, and will be then set to `False` by default. For more details check this issue: https://github.com/huggingface/transformers/issues/31884\n",
      "  warnings.warn(\n"
     ]
    },
    {
     "name": "stdout",
     "output_type": "stream",
     "text": [
      "Loaded pretrained model gpt2-small into HookedTransformer\n"
     ]
    }
   ],
   "source": [
    "transformer = HookedSAETransformer.from_pretrained('gpt2-small', device='cuda')\n",
    "tok = transformer.tokenizer"
   ]
  },
  {
   "cell_type": "code",
   "execution_count": 4,
   "metadata": {},
   "outputs": [],
   "source": [
    "all_tokens = list(range(tok.vocab_size))\n",
    "store = all_unigrams(transformer, 11, 'blocks.10.hook_resid_post', all_tokens, 1024, 'cuda')"
   ]
  },
  {
   "cell_type": "code",
   "execution_count": null,
   "metadata": {},
   "outputs": [],
   "source": [
    "for k, v in store.items():\n",
    "    print(v, v.std())"
   ]
  },
  {
   "cell_type": "code",
   "execution_count": 5,
   "metadata": {},
   "outputs": [],
   "source": [
    "for k, v in store.items():\n",
    "    batch_mean = v.mean(dim=0, keepdim=True)\n",
    "    batch_std = v.std(dim=0, keepdim=True)\n",
    "\n",
    "    normalized = (v - batch_mean) / (batch_std + 1e-6)\n",
    "\n",
    "    store[k] = normalized"
   ]
  },
  {
   "cell_type": "code",
   "execution_count": 11,
   "metadata": {},
   "outputs": [
    {
     "name": "stdout",
     "output_type": "stream",
     "text": [
      "[<bos>, t] tensor(1.0000)\n",
      "[<bos>, t, !] tensor(1.0000)\n",
      "[t] tensor(1.0000)\n",
      "[<bos>, <pad>, t] tensor(1.0000)\n",
      "[t, t] tensor(1.0000)\n",
      "[\" \", t] tensor(1.0000)\n",
      "[\" \", \" \", t] tensor(1.0000)\n",
      "[37233, t] tensor(1.0000)\n",
      "[<bos>, 37233] tensor(1.6570)\n"
     ]
    }
   ],
   "source": [
    "for k, v in store.items():\n",
    "    print(k, v.std())"
   ]
  },
  {
   "cell_type": "code",
   "execution_count": 7,
   "metadata": {},
   "outputs": [],
   "source": [
    "if not os.path.exists('../cruft'):\n",
    "    os.makedirs('../cruft')\n",
    "torch.save(store, '../cruft/unigrams_gpt2_blocks.10.hook_resid_post_norm.pth')"
   ]
  },
  {
   "cell_type": "code",
   "execution_count": 20,
   "metadata": {},
   "outputs": [],
   "source": [
    "import torch"
   ]
  },
  {
   "cell_type": "code",
   "execution_count": 35,
   "metadata": {},
   "outputs": [],
   "source": [
    "a = torch.load('../cruft/unigrams_gpt2_blocks.10.hook_resid_post.pth')"
   ]
  },
  {
   "cell_type": "code",
   "execution_count": 36,
   "metadata": {},
   "outputs": [
    {
     "data": {
      "text/plain": [
       "dict_keys(['[<bos>, t]', '[<bos>, t, !]', '[t]', '[<bos>, <pad>, t]', '[t, t]', '[\" \", t]', '[\" \", \" \", t]', '[37233, t]'])"
      ]
     },
     "execution_count": 36,
     "metadata": {},
     "output_type": "execute_result"
    }
   ],
   "source": [
    "a.keys()"
   ]
  },
  {
   "cell_type": "code",
   "execution_count": 37,
   "metadata": {},
   "outputs": [
    {
     "name": "stdout",
     "output_type": "stream",
     "text": [
      "tensor(1.0000)\n",
      "tensor(1.0000)\n",
      "tensor(1.0000)\n",
      "tensor(1.0000)\n",
      "tensor(1.0000)\n",
      "tensor(1.0000)\n",
      "tensor(1.0000)\n",
      "tensor(1.0000)\n"
     ]
    }
   ],
   "source": [
    "for k, v in a.items():\n",
    "    print(v.std())"
   ]
  },
  {
   "cell_type": "code",
   "execution_count": 31,
   "metadata": {},
   "outputs": [
    {
     "name": "stdout",
     "output_type": "stream",
     "text": [
      "tensor(8.6994)\n",
      "tensor(9.9991)\n",
      "tensor(112.4044)\n",
      "tensor(8.6484)\n",
      "tensor(8.8983)\n",
      "tensor(8.6744)\n",
      "tensor(8.7332)\n",
      "tensor(8.3452)\n"
     ]
    }
   ],
   "source": [
    "for k, v in a.items():\n",
    "    print(v.std())"
   ]
  },
  {
   "cell_type": "code",
   "execution_count": 32,
   "metadata": {},
   "outputs": [],
   "source": [
    "\n",
    "for k, v in a.items():\n",
    "    batch_mean = v.mean(dim=0, keepdim=True)\n",
    "    batch_std = v.std(dim=0, keepdim=True)\n",
    "\n",
    "    normalized = (v - batch_mean) / (batch_std + 1e-6)\n",
    "\n",
    "    a[k] = normalized"
   ]
  },
  {
   "cell_type": "code",
   "execution_count": 33,
   "metadata": {},
   "outputs": [
    {
     "name": "stdout",
     "output_type": "stream",
     "text": [
      "tensor(1.0000)\n",
      "tensor(1.0000)\n",
      "tensor(1.0000)\n",
      "tensor(1.0000)\n",
      "tensor(1.0000)\n",
      "tensor(1.0000)\n",
      "tensor(1.0000)\n",
      "tensor(1.0000)\n"
     ]
    }
   ],
   "source": [
    "for k, v in a.items():\n",
    "    print(v.std())"
   ]
  },
  {
   "cell_type": "code",
   "execution_count": 34,
   "metadata": {},
   "outputs": [],
   "source": [
    "torch.save(a, '../cruft/unigrams_gpt2_blocks.10.hook_resid_post.pth')"
   ]
  },
  {
   "cell_type": "code",
   "execution_count": null,
   "metadata": {},
   "outputs": [],
   "source": []
  }
 ],
 "metadata": {
  "kernelspec": {
   "display_name": "pytorch",
   "language": "python",
   "name": "python3"
  },
  "language_info": {
   "codemirror_mode": {
    "name": "ipython",
    "version": 3
   },
   "file_extension": ".py",
   "mimetype": "text/x-python",
   "name": "python",
   "nbconvert_exporter": "python",
   "pygments_lexer": "ipython3",
   "version": "3.11.9"
  }
 },
 "nbformat": 4,
 "nbformat_minor": 2
}
