{
 "cells": [
  {
   "cell_type": "code",
   "execution_count": null,
   "metadata": {},
   "outputs": [],
   "source": [
    "import torch\n",
    "import time\n",
    "import matplotlib.pyplot as plt\n",
    "from collections import defaultdict\n",
    "\n",
    "from sache.train import SAE, SwitchSAE\n",
    "device='cuda'\n",
    "n_trials =10\n",
    "n_experts=16\n",
    "n_feats=24576\n",
    "d_in = 768\n",
    "switch_sae = SwitchSAE(n_features=n_feats, n_experts=n_experts, d_in=d_in, device=device)\n",
    "sae = SAE(n_features=n_feats, d_in=d_in, device=device)\n",
    "\n",
    "saes = [sae, switch_sae]\n",
    "bss = [8192, 4096, 2048, 1024, 512, 256]\n",
    "results = defaultdict(list)\n",
    "for bs in bss:\n",
    "    for s in saes:\n",
    "        # warm up\n",
    "        input = torch.randn(bs, d_in, device=device)\n",
    "        s.forward_descriptive(input)\n",
    "\n",
    "        torch.cuda.synchronize()\n",
    "        start = time.time()\n",
    "\n",
    "        for i in range(n_trials):\n",
    "            input = torch.randn(bs, d_in, device=device)\n",
    "            s.forward_descriptive(input)\n",
    "\n",
    "        torch.cuda.synchronize()\n",
    "        end = time.time()\n",
    "        results[str(type(s))].append(end-start)\n",
    "\n",
    "for k in results.keys():\n",
    "    plt.plot(bss, results[k], label=k)\n",
    "    plt.legend()\n",
    "    plt.xlabel('Batch size')\n",
    "    plt.ylabel('Time (s)')\n",
    "    plt.title('Forward descriptive')\n"
   ]
  }
 ],
 "metadata": {
  "language_info": {
   "name": "python"
  }
 },
 "nbformat": 4,
 "nbformat_minor": 2
}
